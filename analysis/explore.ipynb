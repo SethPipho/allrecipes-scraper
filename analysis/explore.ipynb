{
 "cells": [
  {
   "cell_type": "code",
   "execution_count": 3,
   "metadata": {},
   "outputs": [],
   "source": [
    "from functional import seq\n",
    "import json\n",
    "import re"
   ]
  },
  {
   "cell_type": "code",
   "execution_count": 14,
   "metadata": {},
   "outputs": [],
   "source": [
    "def list_from_file(path):\n",
    "    '''Returns text file contents as list (one line => one element in list)'''\n",
    "    lst = []\n",
    "    with open(path) as f:\n",
    "        for line in f:\n",
    "            string = line.strip()\n",
    "            if len(string) > 0:\n",
    "                lst.append(string)\n",
    "    return lst"
   ]
  },
  {
   "cell_type": "code",
   "execution_count": 4,
   "metadata": {},
   "outputs": [
    {
     "data": {
      "text/plain": [
       "65981"
      ]
     },
     "execution_count": 4,
     "metadata": {},
     "output_type": "execute_result"
    }
   ],
   "source": [
    "recipes = seq.open(\"../data/recipes-raw.jsonl\", encoding=\"utf-8\").map(json.loads)\n",
    "\n",
    "recipes.len()"
   ]
  },
  {
   "cell_type": "code",
   "execution_count": 5,
   "metadata": {},
   "outputs": [
    {
     "data": {
      "text/plain": [
       "[{'title': 'Drowned Beef Sandwich with Chipotle Sauce (Torta Ahogada)',\n",
       "  'url': 'https://www.allrecipes.com/recipe/244940/drowned-beef-sandwich-with-chipotle-sauce-torta-ahogada/',\n",
       "  'rating': '4.71',\n",
       "  'numreviews': '11',\n",
       "  'ingredients': ['12 ounces chipotle cooking sauce (such a Knorr(R))',\n",
       "   '1 (14 ounce) can reduced-sodium beef broth',\n",
       "   '1/4 cup chopped fresh cilantro (optional)',\n",
       "   '2 tablespoons vegetable oil',\n",
       "   '1 onion, thinly sliced',\n",
       "   '3 cloves garlic, minced',\n",
       "   '1 pound thinly sliced deli roast beef',\n",
       "   '4 bolillo rolls, halved and lightly toasted',\n",
       "   '4 sprigs fresh cilantro, or to taste (optional)'],\n",
       "  'instructions': 'Combine chipotle cooking sauce, beef broth, and 1/4 cup chopped cilantro in a saucepan; bring to a boil. Reduce heat to medium-low and simmer, stirring occasionally, for 10 minutes.\\nHeat oil in a skillet over medium-high heat; saute onion until softened, about 5 minutes. Stir garlic into onion and cook for 1 minute. Add roast beef and 1/4 cup chipotle sauce mixture and cook, stirring constantly, until heated through, about 2 minutes.\\nLadle remaining chipotle sauce mixture into 4 bowls for dipping. Spoon roast beef mixture onto the bottom half of each bun, top with a cilantro sprig, and place the top on each bun. Dip sandwiches into sauce.',\n",
       "  'imgsrc': 'https://images.media-allrecipes.com/userphotos/300x300/2607771.jpg'}]"
      ]
     },
     "execution_count": 5,
     "metadata": {},
     "output_type": "execute_result"
    }
   ],
   "source": [
    "recipes.take(1).list()"
   ]
  },
  {
   "cell_type": "code",
   "execution_count": 6,
   "metadata": {},
   "outputs": [
    {
     "data": {
      "text/plain": [
       "['12 ounces chipotle cooking sauce (such a Knorr(R))',\n",
       " '1 (14 ounce) can reduced-sodium beef broth',\n",
       " '1/4 cup chopped fresh cilantro (optional)']"
      ]
     },
     "execution_count": 6,
     "metadata": {},
     "output_type": "execute_result"
    }
   ],
   "source": [
    "ingredients = recipes.map(lambda x: x['ingredients']).flatten()\n",
    "ingredients.take(3).list()"
   ]
  },
  {
   "cell_type": "code",
   "execution_count": 7,
   "metadata": {},
   "outputs": [],
   "source": [
    "with open(\"all-ingredients.txt\", \"w\", encoding=\"utf-8\") as f:\n",
    "    ingredients.distinct().sorted().for_each(lambda x: f.write(x + '\\n'))"
   ]
  },
  {
   "cell_type": "code",
   "execution_count": 8,
   "metadata": {},
   "outputs": [],
   "source": [
    "#remove section eg \"Frosting:\"\n",
    "ingredients_sans_section = ingredients.filter(lambda x: x.find(\":\") == -1)\n"
   ]
  },
  {
   "cell_type": "code",
   "execution_count": 9,
   "metadata": {},
   "outputs": [
    {
     "data": {
      "text/plain": [
       "['', '% milk', \"'bouqet garni' spice balls\"]"
      ]
     },
     "execution_count": 9,
     "metadata": {},
     "output_type": "execute_result"
    }
   ],
   "source": [
    "#remove numbers\n",
    "number_regex = re.compile(\"([0-9]+)|([0-9]*.[0-9]+)|([0-9]+/[0-9]+)\")\n",
    "\n",
    "ingredients_sans_numbers = (ingredients_sans_section\n",
    "                                .map(lambda x: number_regex.sub(\"\",x))\n",
    "                                .map(lambda x: x.strip().lower())\n",
    "                                .distinct()\n",
    "                                .sorted()\n",
    "                           )\n",
    "\n",
    "ingredients_sans_numbers.take(3).list()"
   ]
  },
  {
   "cell_type": "code",
   "execution_count": 10,
   "metadata": {},
   "outputs": [],
   "source": [
    "with open(\"all-ingredients-sans-numbers.txt\", \"w\") as f:\n",
    "    ingredients_sans_numbers.for_each(lambda x: f.write(x + '\\n'))"
   ]
  },
  {
   "cell_type": "code",
   "execution_count": 11,
   "metadata": {},
   "outputs": [],
   "source": [
    "# remove stuff after a comma\n",
    "\n",
    "ingredients_sans_details = (ingredients_sans_numbers\n",
    "                                .map(lambda x: x.split(\",\"))\n",
    "                                .map(lambda x: x[0])\n",
    "                                .distinct()\n",
    "                                .sorted()\n",
    "                           )\n",
    "\n",
    "details = (ingredients_sans_numbers\n",
    "                                .map(lambda x: x.split(\",\"))\n",
    "                                .map(lambda x: \",\".join(x[1:]))\n",
    "                                .distinct()\n",
    "                                .sorted()\n",
    "                           )\n",
    "\n",
    "with open(\"all-ingredients-sans-details.txt\", \"w\") as f:\n",
    "    ingredients_sans_details.for_each(lambda x: f.write(x + '\\n'))\n",
    "    \n",
    "    \n",
    "with open(\"all-details.txt\", \"w\") as f:\n",
    "    details.for_each(lambda x: f.write(x + '\\n'))"
   ]
  },
  {
   "cell_type": "code",
   "execution_count": 37,
   "metadata": {},
   "outputs": [],
   "source": [
    "#remove measurements\n",
    "measurements = list_from_file(\"standard-units.txt\")\n",
    "measurements_regex = re.compile(\"(^| |-)(\" + \"|\".join(measurements) + \")(es)?(s)?\" + \"[)\\- ]\")\n",
    "\n",
    "ingredients_sans_measurements = (ingredients_sans_details\n",
    "                                .map(lambda x: measurements_regex.sub(\"\", x))\n",
    "                                .map(lambda x: x.strip())\n",
    "                                .distinct()\n",
    "                                .sorted()\n",
    "                               )\n",
    "\n",
    "with open(\"all-ingredients-sans-measurements.txt\", \"w\") as f:\n",
    "    ingredients_sans_measurements.for_each(lambda x: f.write(x + '\\n'))\n",
    "\n",
    "\n"
   ]
  },
  {
   "cell_type": "code",
   "execution_count": null,
   "metadata": {},
   "outputs": [],
   "source": []
  }
 ],
 "metadata": {
  "kernelspec": {
   "display_name": "Python 3",
   "language": "python",
   "name": "python3"
  },
  "language_info": {
   "codemirror_mode": {
    "name": "ipython",
    "version": 3
   },
   "file_extension": ".py",
   "mimetype": "text/x-python",
   "name": "python",
   "nbconvert_exporter": "python",
   "pygments_lexer": "ipython3",
   "version": "3.6.8"
  }
 },
 "nbformat": 4,
 "nbformat_minor": 2
}
